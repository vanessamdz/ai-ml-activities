{
  "nbformat": 4,
  "nbformat_minor": 0,
  "metadata": {
    "colab": {
      "provenance": [],
      "toc_visible": true
    },
    "kernelspec": {
      "name": "python3",
      "display_name": "Python 3"
    },
    "language_info": {
      "name": "python"
    }
  },
  "cells": [
    {
      "cell_type": "markdown",
      "source": [
        "# **Problemas de Clasificación**"
      ],
      "metadata": {
        "id": "ekcjgAHuJfAP"
      }
    },
    {
      "cell_type": "markdown",
      "source": [
        "## Ejercicio 1"
      ],
      "metadata": {
        "id": "sCQUp6_NLYcP"
      }
    },
    {
      "cell_type": "code",
      "source": [
        "import numpy as np\n",
        "import pandas as pd"
      ],
      "metadata": {
        "id": "L9Bc3-7-5npk"
      },
      "execution_count": null,
      "outputs": []
    },
    {
      "cell_type": "code",
      "source": [
        "data = np.loadtxt('P1_3.txt')"
      ],
      "metadata": {
        "id": "Sc3CzGe3mveP"
      },
      "execution_count": null,
      "outputs": []
    },
    {
      "cell_type": "code",
      "source": [
        "data = np.delete(data, 1, axis=1)"
      ],
      "metadata": {
        "id": "B63CsmHFR1BD"
      },
      "execution_count": null,
      "outputs": []
    },
    {
      "cell_type": "code",
      "source": [
        "df = pd.DataFrame(data)"
      ],
      "metadata": {
        "id": "yPkiHIfUM1jH"
      },
      "execution_count": null,
      "outputs": []
    },
    {
      "cell_type": "markdown",
      "source": [
        "### 1. Determina si es necesario balancear los datos. En caso de que sea afirmativo, en todo este ejercicio tendrás que utilizar alguna estrategia para mitigar el problema de tener una muestra desbalanceada."
      ],
      "metadata": {
        "id": "ScrX3AZ_Bfai"
      }
    },
    {
      "cell_type": "code",
      "source": [
        "import matplotlib.pyplot as plt"
      ],
      "metadata": {
        "id": "ag4xMCMfRXW4"
      },
      "execution_count": null,
      "outputs": []
    },
    {
      "cell_type": "code",
      "source": [
        "print(df[0].value_counts())"
      ],
      "metadata": {
        "id": "9OaUGkU1TTss",
        "colab": {
          "base_uri": "https://localhost:8080/"
        },
        "outputId": "e99bce70-d972-437c-991a-3652173c9445"
      },
      "execution_count": null,
      "outputs": [
        {
          "output_type": "stream",
          "name": "stdout",
          "text": [
            "2.0    1496\n",
            "1.0     298\n",
            "Name: 0, dtype: int64\n"
          ]
        }
      ]
    },
    {
      "cell_type": "code",
      "source": [
        "classes = df[0].value_counts()\n",
        "plt.bar(classes.index, classes.values)\n",
        "plt.xlabel('Clases')\n",
        "plt.ylabel('Cantidad')\n",
        "plt.title('Distribución de Clases')\n",
        "plt.show()"
      ],
      "metadata": {
        "id": "4DgeT1kikCQQ",
        "colab": {
          "base_uri": "https://localhost:8080/",
          "height": 472
        },
        "outputId": "38220e5f-2c1e-4299-d510-0b5549e0ae92"
      },
      "execution_count": null,
      "outputs": [
        {
          "output_type": "display_data",
          "data": {
            "text/plain": [
              "<Figure size 640x480 with 1 Axes>"
            ],
            "image/png": "[encoded data removed]"
          },
          "metadata": {}
        }
      ]
    },
    {
      "cell_type": "code",
      "source": [
        "from imblearn.under_sampling import RandomUnderSampler"
      ],
      "metadata": {
        "id": "jAe0dZIJOWrf"
      },
      "execution_count": null,
      "outputs": []
    },
    {
      "cell_type": "code",
      "source": [
        "x = data[:,1:]\n",
        "y = data[:,0]"
      ],
      "metadata": {
        "id": "o_QPtqoqPbkP"
      },
      "execution_count": null,
      "outputs": []
    },
    {
      "cell_type": "code",
      "source": [
        "xdf = df.iloc[:,1:]\n",
        "ydf = df.iloc[:,0]"
      ],
      "metadata": {
        "id": "ueapxI7EQXqp"
      },
      "execution_count": null,
      "outputs": []
    },
    {
      "cell_type": "code",
      "source": [
        "undersample_str = {\n",
        "    1: 298,\n",
        "    2: 298\n",
        "}"
      ],
      "metadata": {
        "id": "SZvPnMQaOmmG"
      },
      "execution_count": null,
      "outputs": []
    },
    {
      "cell_type": "code",
      "source": [
        "undersampler = RandomUnderSampler(sampling_strategy=undersample_str, random_state=42)\n",
        "X_resampled, y_resampled = undersampler.fit_resample(x, y)"
      ],
      "metadata": {
        "id": "3VvyjWDrO6NX"
      },
      "execution_count": null,
      "outputs": []
    },
    {
      "cell_type": "code",
      "source": [
        "df = pd.DataFrame(X_resampled, columns=xdf.columns)\n",
        "df[0] = y_resampled"
      ],
      "metadata": {
        "id": "0K9tF9uqPttR"
      },
      "execution_count": null,
      "outputs": []
    },
    {
      "cell_type": "code",
      "source": [
        "print(df[0].value_counts())"
      ],
      "metadata": {
        "id": "56uo8t8nP2vN",
        "colab": {
          "base_uri": "https://localhost:8080/"
        },
        "outputId": "ea8e8347-dcd3-44ce-c589-6bd3429ee240"
      },
      "execution_count": null,
      "outputs": [
        {
          "output_type": "stream",
          "name": "stdout",
          "text": [
            "1.0    298\n",
            "2.0    298\n",
            "Name: 0, dtype: int64\n"
          ]
        }
      ]
    },
    {
      "cell_type": "code",
      "source": [
        "classes = df[0].value_counts()\n",
        "plt.bar(classes.index, classes.values)\n",
        "plt.xlabel('Clases')\n",
        "plt.ylabel('Cantidad')\n",
        "plt.title('Distribución de Clases')\n",
        "plt.show()"
      ],
      "metadata": {
        "id": "4sUNnxywJzbi",
        "colab": {
          "base_uri": "https://localhost:8080/",
          "height": 472
        },
        "outputId": "218f3a00-959c-4779-d803-7c86edc60e6a"
      },
      "execution_count": null,
      "outputs": [
        {
          "output_type": "display_data",
          "data": {
            "text/plain": [
              "<Figure size 640x480 with 1 Axes>"
            ],
            "image/png": "[encoded data removed]"
          },
          "metadata": {}
        }
      ]
    },
    {
      "cell_type": "markdown",
      "source": [
        "### 2. Evalúa al menos 5 modelos de clasificación distintos utilizando validación cruzada, y determina cuál de ellos es el más efectivo."
      ],
      "metadata": {
        "id": "MLNPf2mh-xf4"
      }
    },
    {
      "cell_type": "code",
      "source": [
        "from sklearn.model_selection import train_test_split, cross_val_predict\n",
        "from sklearn.metrics import classification_report"
      ],
      "metadata": {
        "id": "rOJaoxci87L2"
      },
      "execution_count": null,
      "outputs": []
    },
    {
      "cell_type": "markdown",
      "source": [
        "#### Support Vector Machine (SVM)"
      ],
      "metadata": {
        "id": "BjD8qPch-3qu"
      }
    },
    {
      "cell_type": "code",
      "source": [
        "from sklearn.svm import SVC"
      ],
      "metadata": {
        "id": "5pshIOrTV8EV"
      },
      "execution_count": null,
      "outputs": []
    },
    {
      "cell_type": "code",
      "source": [
        "X_train, X_test, y_train, y_test = train_test_split(df.iloc[:, 1:], df[0], test_size=0.2, random_state=42)"
      ],
      "metadata": {
        "id": "SBzYWaNKUM0F"
      },
      "execution_count": null,
      "outputs": []
    },
    {
      "cell_type": "code",
      "source": [
        "svm_model = SVC(kernel='linear', C=1)"
      ],
      "metadata": {
        "id": "tpW0j0euV8kH"
      },
      "execution_count": null,
      "outputs": []
    },
    {
      "cell_type": "code",
      "source": [
        "pred = cross_val_predict(svm_model, X_resampled, y_resampled, cv=5)"
      ],
      "metadata": {
        "id": "GZB1UJp44EDM"
      },
      "execution_count": null,
      "outputs": []
    },
    {
      "cell_type": "code",
      "source": [
        "class_report_svm = classification_report(y_resampled, pred)\n",
        "print(class_report_svm)"
      ],
      "metadata": {
        "id": "YPahzQoHWqX8",
        "colab": {
          "base_uri": "https://localhost:8080/"
        },
        "outputId": "38835c7a-98ed-480f-d199-2d2dcb02a88e"
      },
      "execution_count": null,
      "outputs": [
        {
          "output_type": "stream",
          "name": "stdout",
          "text": [
            "              precision    recall  f1-score   support\n",
            "\n",
            "         1.0       0.81      0.81      0.81       298\n",
            "         2.0       0.81      0.81      0.81       298\n",
            "\n",
            "    accuracy                           0.81       596\n",
            "   macro avg       0.81      0.81      0.81       596\n",
            "weighted avg       0.81      0.81      0.81       596\n",
            "\n"
          ]
        }
      ]
    },
    {
      "cell_type": "markdown",
      "source": [
        "#### Regresión Logística"
      ],
      "metadata": {
        "id": "pb-96Ar5HBNs"
      }
    },
    {
      "cell_type": "code",
      "source": [
        "from sklearn.linear_model import LogisticRegression"
      ],
      "metadata": {
        "id": "fNH03tR0XRNy"
      },
      "execution_count": null,
      "outputs": []
    },
    {
      "cell_type": "code",
      "source": [
        "reglog_model = LogisticRegression()"
      ],
      "metadata": {
        "id": "DvDFX_9X3Nzy"
      },
      "execution_count": null,
      "outputs": []
    },
    {
      "cell_type": "code",
      "source": [
        "pred = cross_val_predict(reglog_model, X_resampled, y_resampled, cv=5)"
      ],
      "metadata": {
        "id": "nsQ2UO0f3PNb"
      },
      "execution_count": null,
      "outputs": []
    },
    {
      "cell_type": "code",
      "source": [
        "class_report_reglog = classification_report(y_resampled, pred)\n",
        "print(class_report_reglog)"
      ],
      "metadata": {
        "id": "UgFQOkDS3Xod",
        "colab": {
          "base_uri": "https://localhost:8080/"
        },
        "outputId": "e4f9f3ed-9bf5-42b0-a197-b085fcb7890e"
      },
      "execution_count": null,
      "outputs": [
        {
          "output_type": "stream",
          "name": "stdout",
          "text": [
            "              precision    recall  f1-score   support\n",
            "\n",
            "         1.0       0.80      0.84      0.82       298\n",
            "         2.0       0.83      0.80      0.81       298\n",
            "\n",
            "    accuracy                           0.82       596\n",
            "   macro avg       0.82      0.82      0.82       596\n",
            "weighted avg       0.82      0.82      0.82       596\n",
            "\n"
          ]
        }
      ]
    },
    {
      "cell_type": "markdown",
      "source": [
        "#### K-Nearest Neighbors"
      ],
      "metadata": {
        "id": "eO7nTFvMeBj6"
      }
    },
    {
      "cell_type": "code",
      "source": [
        "from sklearn.neighbors import KNeighborsClassifier"
      ],
      "metadata": {
        "id": "JbweVmyceBK8"
      },
      "execution_count": null,
      "outputs": []
    },
    {
      "cell_type": "code",
      "source": [
        "knn_model = KNeighborsClassifier(n_neighbors=5)"
      ],
      "metadata": {
        "id": "tKWScZpNEQ6e"
      },
      "execution_count": null,
      "outputs": []
    },
    {
      "cell_type": "code",
      "source": [
        "pred = cross_val_predict(knn_model, X_resampled, y_resampled, cv=5)"
      ],
      "metadata": {
        "id": "rWz9uszV9ori"
      },
      "execution_count": null,
      "outputs": []
    },
    {
      "cell_type": "code",
      "source": [
        "class_report_knn = classification_report(y_resampled, pred)\n",
        "print(class_report_knn)"
      ],
      "metadata": {
        "id": "T-a-Wo_W9ryg",
        "colab": {
          "base_uri": "https://localhost:8080/"
        },
        "outputId": "85bef484-59e8-4b20-cf93-30dbb51d790e"
      },
      "execution_count": null,
      "outputs": [
        {
          "output_type": "stream",
          "name": "stdout",
          "text": [
            "              precision    recall  f1-score   support\n",
            "\n",
            "         1.0       0.77      0.79      0.78       298\n",
            "         2.0       0.78      0.77      0.77       298\n",
            "\n",
            "    accuracy                           0.78       596\n",
            "   macro avg       0.78      0.78      0.78       596\n",
            "weighted avg       0.78      0.78      0.78       596\n",
            "\n"
          ]
        }
      ]
    },
    {
      "cell_type": "markdown",
      "source": [
        "#### Árboles de Decisión"
      ],
      "metadata": {
        "id": "H9sh3LaZqFk1"
      }
    },
    {
      "cell_type": "code",
      "source": [
        "from sklearn.tree import DecisionTreeClassifier"
      ],
      "metadata": {
        "id": "BQS6efc4oUdD"
      },
      "execution_count": null,
      "outputs": []
    },
    {
      "cell_type": "code",
      "source": [
        "tree_model = DecisionTreeClassifier(max_depth=5)"
      ],
      "metadata": {
        "id": "g-gPZZuPPxFU"
      },
      "execution_count": null,
      "outputs": []
    },
    {
      "cell_type": "code",
      "source": [
        "pred = cross_val_predict(tree_model, X_resampled, y_resampled, cv=5)"
      ],
      "metadata": {
        "id": "LCcRSzxi-RAd"
      },
      "execution_count": null,
      "outputs": []
    },
    {
      "cell_type": "code",
      "source": [
        "class_report_tree = classification_report(y_resampled, pred)\n",
        "print(class_report_tree)"
      ],
      "metadata": {
        "id": "qWULmXIs-TAt",
        "colab": {
          "base_uri": "https://localhost:8080/"
        },
        "outputId": "4318192b-a860-475e-c2a7-2c054407bb30"
      },
      "execution_count": null,
      "outputs": [
        {
          "output_type": "stream",
          "name": "stdout",
          "text": [
            "              precision    recall  f1-score   support\n",
            "\n",
            "         1.0       0.73      0.68      0.70       298\n",
            "         2.0       0.70      0.75      0.72       298\n",
            "\n",
            "    accuracy                           0.71       596\n",
            "   macro avg       0.72      0.71      0.71       596\n",
            "weighted avg       0.72      0.71      0.71       596\n",
            "\n"
          ]
        }
      ]
    },
    {
      "cell_type": "markdown",
      "source": [
        "#### Naive Bayes"
      ],
      "metadata": {
        "id": "rSUnz-K7Ci4r"
      }
    },
    {
      "cell_type": "code",
      "source": [
        "from sklearn.naive_bayes import GaussianNB"
      ],
      "metadata": {
        "id": "GT68gDXhCtLa"
      },
      "execution_count": null,
      "outputs": []
    },
    {
      "cell_type": "code",
      "source": [
        "naive_bayes_model = GaussianNB()"
      ],
      "metadata": {
        "id": "pqeOM6rNCwt6"
      },
      "execution_count": null,
      "outputs": []
    },
    {
      "cell_type": "code",
      "source": [
        "pred = cross_val_predict(naive_bayes_model, X_resampled, y_resampled, cv=5)"
      ],
      "metadata": {
        "id": "pq3ub301Cxvz"
      },
      "execution_count": null,
      "outputs": []
    },
    {
      "cell_type": "code",
      "source": [
        "class_report_bayes = classification_report(y_resampled, pred)\n",
        "print(class_report_bayes)"
      ],
      "metadata": {
        "id": "eBi-CE-7C3Rm",
        "colab": {
          "base_uri": "https://localhost:8080/"
        },
        "outputId": "56dae511-6a71-4dfb-b833-192b7b654a37"
      },
      "execution_count": null,
      "outputs": [
        {
          "output_type": "stream",
          "name": "stdout",
          "text": [
            "              precision    recall  f1-score   support\n",
            "\n",
            "         1.0       0.85      0.85      0.85       298\n",
            "         2.0       0.85      0.85      0.85       298\n",
            "\n",
            "    accuracy                           0.85       596\n",
            "   macro avg       0.85      0.85      0.85       596\n",
            "weighted avg       0.85      0.85      0.85       596\n",
            "\n"
          ]
        }
      ]
    },
    {
      "cell_type": "markdown",
      "source": [
        "### 3. Implementa desde cero el método de regresión logística, y evalúalo con el conjunto de datos."
      ],
      "metadata": {
        "id": "yeKVM61TDEN7"
      }
    },
    {
      "cell_type": "code",
      "source": [
        "from sklearn.metrics import accuracy_score\n",
        "from sklearn.datasets import load_iris"
      ],
      "metadata": {
        "id": "E_vJd0WPEWX9"
      },
      "execution_count": null,
      "outputs": []
    },
    {
      "cell_type": "code",
      "source": [
        "class LogisticRegression:\n",
        "    def __init__(self, learning_rate=0.01, num_iterations=1000):\n",
        "        self.learning_rate = learning_rate\n",
        "        self.num_iterations = num_iterations\n",
        "        self.weights = None\n",
        "        self.bias = None\n",
        "\n",
        "    def sigmoid(self, z):\n",
        "        return 1 / (1 + np.exp(-z))\n",
        "\n",
        "    def fit(self, X, y):\n",
        "        num_samples, num_features = X.shape\n",
        "        self.weights = np.zeros(num_features)\n",
        "        self.bias = 0\n",
        "\n",
        "        for _ in range(self.num_iterations):\n",
        "            linear_model = np.dot(X, self.weights) + self.bias\n",
        "            y_predicted = self.sigmoid(linear_model)\n",
        "\n",
        "            dw = (1 / num_samples) * np.dot(X.T, (y_predicted - y))\n",
        "            db = (1 / num_samples) * np.sum(y_predicted - y)\n",
        "\n",
        "            self.weights -= self.learning_rate * dw\n",
        "            self.bias -= self.learning_rate * db\n",
        "\n",
        "    def predict(self, X):\n",
        "        linear_model = np.dot(X, self.weights) + self.bias\n",
        "        y_predicted = self.sigmoid(linear_model)\n",
        "        y_predicted_cls = [1 if i > 0.5 else 0 for i in y_predicted]\n",
        "        return np.array(y_predicted_cls)"
      ],
      "metadata": {
        "id": "UpBD6XN4LQAG"
      },
      "execution_count": null,
      "outputs": []
    },
    {
      "cell_type": "code",
      "source": [
        "X_train, X_test, y_train, y_test = train_test_split(df.iloc[:, 1:], df[0], test_size=0.2, random_state=42)"
      ],
      "metadata": {
        "id": "_rbjU6HyR5yf"
      },
      "execution_count": null,
      "outputs": []
    },
    {
      "cell_type": "code",
      "source": [
        "model = LogisticRegression(learning_rate=0.01, num_iterations=1000)\n",
        "model.fit(X_train, y_train)"
      ],
      "metadata": {
        "id": "nD1PPBUOR7JI"
      },
      "execution_count": null,
      "outputs": []
    },
    {
      "cell_type": "code",
      "source": [
        "y_pred = model.predict(X_test)"
      ],
      "metadata": {
        "id": "MjuYqa0FR8s4"
      },
      "execution_count": null,
      "outputs": []
    },
    {
      "cell_type": "code",
      "source": [
        "class_report = classification_report(y_resampled, pred)\n",
        "print(class_report)"
      ],
      "metadata": {
        "id": "QT1KUbpILX5z",
        "colab": {
          "base_uri": "https://localhost:8080/"
        },
        "outputId": "2c43f44c-6de4-47cb-90ba-8109fdbdd5d5"
      },
      "execution_count": null,
      "outputs": [
        {
          "output_type": "stream",
          "name": "stdout",
          "text": [
            "              precision    recall  f1-score   support\n",
            "\n",
            "         1.0       0.85      0.85      0.85       298\n",
            "         2.0       0.85      0.85      0.85       298\n",
            "\n",
            "    accuracy                           0.85       596\n",
            "   macro avg       0.85      0.85      0.85       596\n",
            "weighted avg       0.85      0.85      0.85       596\n",
            "\n"
          ]
        }
      ]
    },
    {
      "cell_type": "markdown",
      "source": [
        "#### 4. Con alguno de los clasificadores que probaste en los pasos anteriores, determina el número óptimo de características utilizando un método tipo Filter."
      ],
      "metadata": {
        "id": "wO9YPVsJNpi5"
      }
    },
    {
      "cell_type": "code",
      "source": [
        "from sklearn.model_selection import cross_val_score"
      ],
      "metadata": {
        "id": "C4QEDYOFei24"
      },
      "execution_count": null,
      "outputs": []
    },
    {
      "cell_type": "code",
      "source": [
        "tree_model = DecisionTreeClassifier(max_depth=5)"
      ],
      "metadata": {
        "id": "HS2DEHM2ekYk"
      },
      "execution_count": null,
      "outputs": []
    },
    {
      "cell_type": "code",
      "source": [
        "tree_model.fit(X_resampled, y_resampled)"
      ],
      "metadata": {
        "id": "IzPuK57geo0H",
        "colab": {
          "base_uri": "https://localhost:8080/",
          "height": 75
        },
        "outputId": "da2caf1c-5751-4496-abae-eade12705021"
      },
      "execution_count": null,
      "outputs": [
        {
          "output_type": "execute_result",
          "data": {
            "text/plain": [
              "DecisionTreeClassifier(max_depth=5)"
            ],
            "text/html": [
              "<style>#sk-container-id-1 {color: black;background-color: white;}#sk-container-id-1 pre{padding: 0;}#sk-container-id-1 div.sk-toggleable {background-color: white;}#sk-container-id-1 label.sk-toggleable__label {cursor: pointer;display: block;width: 100%;margin-bottom: 0;padding: 0.3em;box-sizing: border-box;text-align: center;}#sk-container-id-1 label.sk-toggleable__label-arrow:before {content: \"▸\";float: left;margin-right: 0.25em;color: #696969;}#sk-container-id-1 label.sk-toggleable__label-arrow:hover:before {color: black;}#sk-container-id-1 div.sk-estimator:hover label.sk-toggleable__label-arrow:before {color: black;}#sk-container-id-1 div.sk-toggleable__content {max-height: 0;max-width: 0;overflow: hidden;text-align: left;background-color: #f0f8ff;}#sk-container-id-1 div.sk-toggleable__content pre {margin: 0.2em;color: black;border-radius: 0.25em;background-color: #f0f8ff;}#sk-container-id-1 input.sk-toggleable__control:checked~div.sk-toggleable__content {max-height: 200px;max-width: 100%;overflow: auto;}#sk-container-id-1 input.sk-toggleable__control:checked~label.sk-toggleable__label-arrow:before {content: \"▾\";}#sk-container-id-1 div.sk-estimator input.sk-toggleable__control:checked~label.sk-toggleable__label {background-color: #d4ebff;}#sk-container-id-1 div.sk-label input.sk-toggleable__control:checked~label.sk-toggleable__label {background-color: #d4ebff;}#sk-container-id-1 input.sk-hidden--visually {border: 0;clip: rect(1px 1px 1px 1px);clip: rect(1px, 1px, 1px, 1px);height: 1px;margin: -1px;overflow: hidden;padding: 0;position: absolute;width: 1px;}#sk-container-id-1 div.sk-estimator {font-family: monospace;background-color: #f0f8ff;border: 1px dotted black;border-radius: 0.25em;box-sizing: border-box;margin-bottom: 0.5em;}#sk-container-id-1 div.sk-estimator:hover {background-color: #d4ebff;}#sk-container-id-1 div.sk-parallel-item::after {content: \"\";width: 100%;border-bottom: 1px solid gray;flex-grow: 1;}#sk-container-id-1 div.sk-label:hover label.sk-toggleable__label {background-color: #d4ebff;}#sk-container-id-1 div.sk-serial::before {content: \"\";position: absolute;border-left: 1px solid gray;box-sizing: border-box;top: 0;bottom: 0;left: 50%;z-index: 0;}#sk-container-id-1 div.sk-serial {display: flex;flex-direction: column;align-items: center;background-color: white;padding-right: 0.2em;padding-left: 0.2em;position: relative;}#sk-container-id-1 div.sk-item {position: relative;z-index: 1;}#sk-container-id-1 div.sk-parallel {display: flex;align-items: stretch;justify-content: center;background-color: white;position: relative;}#sk-container-id-1 div.sk-item::before, #sk-container-id-1 div.sk-parallel-item::before {content: \"\";position: absolute;border-left: 1px solid gray;box-sizing: border-box;top: 0;bottom: 0;left: 50%;z-index: -1;}#sk-container-id-1 div.sk-parallel-item {display: flex;flex-direction: column;z-index: 1;position: relative;background-color: white;}#sk-container-id-1 div.sk-parallel-item:first-child::after {align-self: flex-end;width: 50%;}#sk-container-id-1 div.sk-parallel-item:last-child::after {align-self: flex-start;width: 50%;}#sk-container-id-1 div.sk-parallel-item:only-child::after {width: 0;}#sk-container-id-1 div.sk-dashed-wrapped {border: 1px dashed gray;margin: 0 0.4em 0.5em 0.4em;box-sizing: border-box;padding-bottom: 0.4em;background-color: white;}#sk-container-id-1 div.sk-label label {font-family: monospace;font-weight: bold;display: inline-block;line-height: 1.2em;}#sk-container-id-1 div.sk-label-container {text-align: center;}#sk-container-id-1 div.sk-container {/* jupyter's `normalize.less` sets `[hidden] { display: none; }` but bootstrap.min.css set `[hidden] { display: none !important; }` so we also need the `!important` here to be able to override the default hidden behavior on the sphinx rendered scikit-learn.org. See: https://github.com/scikit-learn/scikit-learn/issues/21755 */display: inline-block !important;position: relative;}#sk-container-id-1 div.sk-text-repr-fallback {display: none;}</style><div id=\"sk-container-id-1\" class=\"sk-top-container\"><div class=\"sk-text-repr-fallback\"><pre>DecisionTreeClassifier(max_depth=5)</pre><b>In a Jupyter environment, please rerun this cell to show the HTML representation or trust the notebook. <br />On GitHub, the HTML representation is unable to render, please try loading this page with nbviewer.org.</b></div><div class=\"sk-container\" hidden><div class=\"sk-item\"><div class=\"sk-estimator sk-toggleable\"><input class=\"sk-toggleable__control sk-hidden--visually\" id=\"sk-estimator-id-1\" type=\"checkbox\" checked><label for=\"sk-estimator-id-1\" class=\"sk-toggleable__label sk-toggleable__label-arrow\">DecisionTreeClassifier</label><div class=\"sk-toggleable__content\"><pre>DecisionTreeClassifier(max_depth=5)</pre></div></div></div></div></div>"
            ]
          },
          "metadata": {},
          "execution_count": 46
        }
      ]
    },
    {
      "cell_type": "code",
      "source": [
        "feature_importance = tree_model.feature_importances_"
      ],
      "metadata": {
        "id": "eqs_bWd0eot6"
      },
      "execution_count": null,
      "outputs": []
    },
    {
      "cell_type": "code",
      "source": [
        "sorted_indices = np.argsort(feature_importance)[::-1]\n",
        "sorted_feature_importance = feature_importance[sorted_indices]"
      ],
      "metadata": {
        "id": "0kunZjXFerHq"
      },
      "execution_count": null,
      "outputs": []
    },
    {
      "cell_type": "code",
      "source": [
        "best_score = 0.0\n",
        "best_features_filter = 0"
      ],
      "metadata": {
        "id": "kOAVks9Fesgo"
      },
      "execution_count": null,
      "outputs": []
    },
    {
      "cell_type": "code",
      "source": [
        "for num_features in range(1, len(sorted_indices) + 1):\n",
        "    selected_features_filter = sorted_indices[:num_features]\n",
        "    X_selected = X_resampled[:, selected_features_filter]\n",
        "    scores = cross_val_score(tree_model, X_selected, y_resampled, cv=5, scoring='accuracy')\n",
        "    mean_score = np.mean(scores)\n",
        "    if mean_score > best_score:\n",
        "        best_score = mean_score\n",
        "        best_features_filter = num_features"
      ],
      "metadata": {
        "id": "bxYVBLaEevEX"
      },
      "execution_count": null,
      "outputs": []
    },
    {
      "cell_type": "code",
      "source": [
        "print(\"Número óptimo de características:\", best_features_filter)\n",
        "print(\"Score con características seleccionadas:\", best_score)"
      ],
      "metadata": {
        "id": "3_xJJafyexB2",
        "colab": {
          "base_uri": "https://localhost:8080/"
        },
        "outputId": "918ece44-8ff6-40c1-fc1a-a61f7672c2bd"
      },
      "execution_count": null,
      "outputs": [
        {
          "output_type": "stream",
          "name": "stdout",
          "text": [
            "Número óptimo de características: 12\n",
            "Score con características seleccionadas: 0.7650140056022409\n"
          ]
        }
      ]
    },
    {
      "cell_type": "markdown",
      "source": [
        "### 5. Repite el paso anterior, pero para un método de selección de características de tipo Wrapper."
      ],
      "metadata": {
        "id": "n1sMIndYcQhQ"
      }
    },
    {
      "cell_type": "code",
      "source": [
        "tree_model = DecisionTreeClassifier(max_depth=5)"
      ],
      "metadata": {
        "id": "VADHGacVgYKg"
      },
      "execution_count": null,
      "outputs": []
    },
    {
      "cell_type": "code",
      "source": [
        "best_features_wrapper = []\n",
        "best_num_features_wrapper = 0\n",
        "best_score = 0.0"
      ],
      "metadata": {
        "id": "MaXygebmghkI"
      },
      "execution_count": null,
      "outputs": []
    },
    {
      "cell_type": "code",
      "source": [
        "for feature in range(X_resampled.shape[1]):\n",
        "    selected_features_wrapper = best_features_wrapper + [feature]\n",
        "    pred = cross_val_predict(tree_model, X_resampled[:, selected_features_wrapper], y_resampled, cv=5)\n",
        "    class_report_tree = classification_report(y_resampled, pred, output_dict=True)\n",
        "    f1_score = class_report_tree['weighted avg']['f1-score']\n",
        "    if f1_score > best_score:\n",
        "        best_score = f1_score\n",
        "        best_num_features_wrapper = len(selected_features_wrapper)"
      ],
      "metadata": {
        "id": "H0gzXFU7gjMm"
      },
      "execution_count": null,
      "outputs": []
    },
    {
      "cell_type": "code",
      "source": [
        "print(\"Número óptimo de características:\", best_num_features_wrapper)\n",
        "print(\"Mejor puntuación (F1-score):\", best_score)"
      ],
      "metadata": {
        "id": "_H_OSFCigpxm",
        "colab": {
          "base_uri": "https://localhost:8080/"
        },
        "outputId": "3ba122cf-5439-42d0-85c5-b6d431635738"
      },
      "execution_count": null,
      "outputs": [
        {
          "output_type": "stream",
          "name": "stdout",
          "text": [
            "Número óptimo de características: 1\n",
            "Mejor puntuación (F1-score): 0.6799586324854319\n"
          ]
        }
      ]
    },
    {
      "cell_type": "markdown",
      "source": [
        "### 6. Repite el paso 4, pero para un método de selección de características de tipo Filter-Wrapper."
      ],
      "metadata": {
        "id": "PlKVfp2Ugx66"
      }
    },
    {
      "cell_type": "code",
      "source": [
        "from itertools import combinations"
      ],
      "metadata": {
        "id": "OXJ72Qqeh0G6"
      },
      "execution_count": null,
      "outputs": []
    },
    {
      "cell_type": "code",
      "source": [
        "min_features = 1\n",
        "max_features = X_resampled.shape[1]"
      ],
      "metadata": {
        "id": "GLWYEZrth7w1"
      },
      "execution_count": null,
      "outputs": []
    },
    {
      "cell_type": "code",
      "source": [
        "best_accuracy = 0\n",
        "best_feature_subset = None"
      ],
      "metadata": {
        "id": "pLBG290oh89r"
      },
      "execution_count": null,
      "outputs": []
    },
    {
      "cell_type": "code",
      "source": [
        "for num_features in range(min_features, max_features + 1):\n",
        "    feature_combinations = list(combinations(range(X_resampled.shape[1]), num_features))\n",
        "    for feature_set in feature_combinations:\n",
        "        X_subset = X_resampled[:, feature_set]\n",
        "        tree_model = DecisionTreeClassifier(max_depth=5)\n",
        "        pred = cross_val_predict(tree_model, X_subset, y_resampled, cv=5)\n",
        "        accuracy = accuracy_score(y_resampled, pred)\n",
        "        if accuracy > best_accuracy:\n",
        "            best_accuracy = accuracy\n",
        "            best_feature_subset = feature_set"
      ],
      "metadata": {
        "id": "1hbRq9aYh_AX"
      },
      "execution_count": null,
      "outputs": []
    },
    {
      "cell_type": "code",
      "source": [
        "print(\"Número óptimo de características:\", len(best_feature_subset))\n",
        "print(\"Mejor precisión:\", best_accuracy)"
      ],
      "metadata": {
        "id": "W8D2nZZoiCIU",
        "colab": {
          "base_uri": "https://localhost:8080/"
        },
        "outputId": "fa2f2090-61f5-4fd7-845e-ae55556c5fce"
      },
      "execution_count": null,
      "outputs": [
        {
          "output_type": "stream",
          "name": "stdout",
          "text": [
            "Número óptimo de características: 3\n",
            "Mejor precisión: 0.7651006711409396\n"
          ]
        }
      ]
    },
    {
      "cell_type": "markdown",
      "source": [
        "### 6. Escoge alguna de las técnicas de selección de características que probaste con anterioridad, y con el número óptimo de características encontrado, prepara tu modelo para producción haciendo lo siguiente:"
      ],
      "metadata": {
        "id": "45Vd-RMJIsTH"
      }
    },
    {
      "cell_type": "markdown",
      "source": [
        "#### A. Aplica el método de selección de características con todos los datos."
      ],
      "metadata": {
        "id": "IycgwtjTIxIj"
      }
    },
    {
      "cell_type": "code",
      "source": [
        "tree_model = DecisionTreeClassifier(max_depth=5)"
      ],
      "metadata": {
        "id": "2MgGkQBPg0Zn"
      },
      "execution_count": null,
      "outputs": []
    },
    {
      "cell_type": "code",
      "source": [
        "tree_model.fit(X_resampled, y_resampled)"
      ],
      "metadata": {
        "colab": {
          "base_uri": "https://localhost:8080/",
          "height": 75
        },
        "id": "i28TahfahJHF",
        "outputId": "7b5f7a26-9d4e-4b1e-9224-2f0525abb182"
      },
      "execution_count": null,
      "outputs": [
        {
          "output_type": "execute_result",
          "data": {
            "text/plain": [
              "DecisionTreeClassifier(max_depth=5)"
            ],
            "text/html": [
              "<style>#sk-container-id-2 {color: black;background-color: white;}#sk-container-id-2 pre{padding: 0;}#sk-container-id-2 div.sk-toggleable {background-color: white;}#sk-container-id-2 label.sk-toggleable__label {cursor: pointer;display: block;width: 100%;margin-bottom: 0;padding: 0.3em;box-sizing: border-box;text-align: center;}#sk-container-id-2 label.sk-toggleable__label-arrow:before {content: \"▸\";float: left;margin-right: 0.25em;color: #696969;}#sk-container-id-2 label.sk-toggleable__label-arrow:hover:before {color: black;}#sk-container-id-2 div.sk-estimator:hover label.sk-toggleable__label-arrow:before {color: black;}#sk-container-id-2 div.sk-toggleable__content {max-height: 0;max-width: 0;overflow: hidden;text-align: left;background-color: #f0f8ff;}#sk-container-id-2 div.sk-toggleable__content pre {margin: 0.2em;color: black;border-radius: 0.25em;background-color: #f0f8ff;}#sk-container-id-2 input.sk-toggleable__control:checked~div.sk-toggleable__content {max-height: 200px;max-width: 100%;overflow: auto;}#sk-container-id-2 input.sk-toggleable__control:checked~label.sk-toggleable__label-arrow:before {content: \"▾\";}#sk-container-id-2 div.sk-estimator input.sk-toggleable__control:checked~label.sk-toggleable__label {background-color: #d4ebff;}#sk-container-id-2 div.sk-label input.sk-toggleable__control:checked~label.sk-toggleable__label {background-color: #d4ebff;}#sk-container-id-2 input.sk-hidden--visually {border: 0;clip: rect(1px 1px 1px 1px);clip: rect(1px, 1px, 1px, 1px);height: 1px;margin: -1px;overflow: hidden;padding: 0;position: absolute;width: 1px;}#sk-container-id-2 div.sk-estimator {font-family: monospace;background-color: #f0f8ff;border: 1px dotted black;border-radius: 0.25em;box-sizing: border-box;margin-bottom: 0.5em;}#sk-container-id-2 div.sk-estimator:hover {background-color: #d4ebff;}#sk-container-id-2 div.sk-parallel-item::after {content: \"\";width: 100%;border-bottom: 1px solid gray;flex-grow: 1;}#sk-container-id-2 div.sk-label:hover label.sk-toggleable__label {background-color: #d4ebff;}#sk-container-id-2 div.sk-serial::before {content: \"\";position: absolute;border-left: 1px solid gray;box-sizing: border-box;top: 0;bottom: 0;left: 50%;z-index: 0;}#sk-container-id-2 div.sk-serial {display: flex;flex-direction: column;align-items: center;background-color: white;padding-right: 0.2em;padding-left: 0.2em;position: relative;}#sk-container-id-2 div.sk-item {position: relative;z-index: 1;}#sk-container-id-2 div.sk-parallel {display: flex;align-items: stretch;justify-content: center;background-color: white;position: relative;}#sk-container-id-2 div.sk-item::before, #sk-container-id-2 div.sk-parallel-item::before {content: \"\";position: absolute;border-left: 1px solid gray;box-sizing: border-box;top: 0;bottom: 0;left: 50%;z-index: -1;}#sk-container-id-2 div.sk-parallel-item {display: flex;flex-direction: column;z-index: 1;position: relative;background-color: white;}#sk-container-id-2 div.sk-parallel-item:first-child::after {align-self: flex-end;width: 50%;}#sk-container-id-2 div.sk-parallel-item:last-child::after {align-self: flex-start;width: 50%;}#sk-container-id-2 div.sk-parallel-item:only-child::after {width: 0;}#sk-container-id-2 div.sk-dashed-wrapped {border: 1px dashed gray;margin: 0 0.4em 0.5em 0.4em;box-sizing: border-box;padding-bottom: 0.4em;background-color: white;}#sk-container-id-2 div.sk-label label {font-family: monospace;font-weight: bold;display: inline-block;line-height: 1.2em;}#sk-container-id-2 div.sk-label-container {text-align: center;}#sk-container-id-2 div.sk-container {/* jupyter's `normalize.less` sets `[hidden] { display: none; }` but bootstrap.min.css set `[hidden] { display: none !important; }` so we also need the `!important` here to be able to override the default hidden behavior on the sphinx rendered scikit-learn.org. See: https://github.com/scikit-learn/scikit-learn/issues/21755 */display: inline-block !important;position: relative;}#sk-container-id-2 div.sk-text-repr-fallback {display: none;}</style><div id=\"sk-container-id-2\" class=\"sk-top-container\"><div class=\"sk-text-repr-fallback\"><pre>DecisionTreeClassifier(max_depth=5)</pre><b>In a Jupyter environment, please rerun this cell to show the HTML representation or trust the notebook. <br />On GitHub, the HTML representation is unable to render, please try loading this page with nbviewer.org.</b></div><div class=\"sk-container\" hidden><div class=\"sk-item\"><div class=\"sk-estimator sk-toggleable\"><input class=\"sk-toggleable__control sk-hidden--visually\" id=\"sk-estimator-id-2\" type=\"checkbox\" checked><label for=\"sk-estimator-id-2\" class=\"sk-toggleable__label sk-toggleable__label-arrow\">DecisionTreeClassifier</label><div class=\"sk-toggleable__content\"><pre>DecisionTreeClassifier(max_depth=5)</pre></div></div></div></div></div>"
            ]
          },
          "metadata": {},
          "execution_count": 63
        }
      ]
    },
    {
      "cell_type": "code",
      "source": [
        "feature_importance = tree_model.feature_importances_"
      ],
      "metadata": {
        "id": "gE_PSI9Yi6OB"
      },
      "execution_count": null,
      "outputs": []
    },
    {
      "cell_type": "code",
      "source": [
        "sorted_indices = np.argsort(feature_importance)[::-1]"
      ],
      "metadata": {
        "id": "BXE8TYtukF5Q"
      },
      "execution_count": null,
      "outputs": []
    },
    {
      "cell_type": "code",
      "source": [
        "selected_features = sorted_indices[:best_features_filter]"
      ],
      "metadata": {
        "id": "dqVZvTZIhoay"
      },
      "execution_count": null,
      "outputs": []
    },
    {
      "cell_type": "markdown",
      "source": [
        "#### B. Ajusta el modelo con las características encontradas."
      ],
      "metadata": {
        "id": "zKLSYBY9mtcK"
      }
    },
    {
      "cell_type": "code",
      "source": [
        "adjusted_model = DecisionTreeClassifier(max_depth=5)"
      ],
      "metadata": {
        "id": "3qIjRcVcrhDV"
      },
      "execution_count": null,
      "outputs": []
    },
    {
      "cell_type": "code",
      "source": [
        "production_model = DecisionTreeClassifier(max_depth=5)\n",
        "production_model.fit(X_selected, y_resampled)"
      ],
      "metadata": {
        "colab": {
          "base_uri": "https://localhost:8080/",
          "height": 75
        },
        "id": "M-_SGNTNkMIi",
        "outputId": "3a4fa50f-8d81-40f7-8bbe-3f6fe980a975"
      },
      "execution_count": null,
      "outputs": [
        {
          "output_type": "execute_result",
          "data": {
            "text/plain": [
              "DecisionTreeClassifier(max_depth=5)"
            ],
            "text/html": [
              "<style>#sk-container-id-3 {color: black;background-color: white;}#sk-container-id-3 pre{padding: 0;}#sk-container-id-3 div.sk-toggleable {background-color: white;}#sk-container-id-3 label.sk-toggleable__label {cursor: pointer;display: block;width: 100%;margin-bottom: 0;padding: 0.3em;box-sizing: border-box;text-align: center;}#sk-container-id-3 label.sk-toggleable__label-arrow:before {content: \"▸\";float: left;margin-right: 0.25em;color: #696969;}#sk-container-id-3 label.sk-toggleable__label-arrow:hover:before {color: black;}#sk-container-id-3 div.sk-estimator:hover label.sk-toggleable__label-arrow:before {color: black;}#sk-container-id-3 div.sk-toggleable__content {max-height: 0;max-width: 0;overflow: hidden;text-align: left;background-color: #f0f8ff;}#sk-container-id-3 div.sk-toggleable__content pre {margin: 0.2em;color: black;border-radius: 0.25em;background-color: #f0f8ff;}#sk-container-id-3 input.sk-toggleable__control:checked~div.sk-toggleable__content {max-height: 200px;max-width: 100%;overflow: auto;}#sk-container-id-3 input.sk-toggleable__control:checked~label.sk-toggleable__label-arrow:before {content: \"▾\";}#sk-container-id-3 div.sk-estimator input.sk-toggleable__control:checked~label.sk-toggleable__label {background-color: #d4ebff;}#sk-container-id-3 div.sk-label input.sk-toggleable__control:checked~label.sk-toggleable__label {background-color: #d4ebff;}#sk-container-id-3 input.sk-hidden--visually {border: 0;clip: rect(1px 1px 1px 1px);clip: rect(1px, 1px, 1px, 1px);height: 1px;margin: -1px;overflow: hidden;padding: 0;position: absolute;width: 1px;}#sk-container-id-3 div.sk-estimator {font-family: monospace;background-color: #f0f8ff;border: 1px dotted black;border-radius: 0.25em;box-sizing: border-box;margin-bottom: 0.5em;}#sk-container-id-3 div.sk-estimator:hover {background-color: #d4ebff;}#sk-container-id-3 div.sk-parallel-item::after {content: \"\";width: 100%;border-bottom: 1px solid gray;flex-grow: 1;}#sk-container-id-3 div.sk-label:hover label.sk-toggleable__label {background-color: #d4ebff;}#sk-container-id-3 div.sk-serial::before {content: \"\";position: absolute;border-left: 1px solid gray;box-sizing: border-box;top: 0;bottom: 0;left: 50%;z-index: 0;}#sk-container-id-3 div.sk-serial {display: flex;flex-direction: column;align-items: center;background-color: white;padding-right: 0.2em;padding-left: 0.2em;position: relative;}#sk-container-id-3 div.sk-item {position: relative;z-index: 1;}#sk-container-id-3 div.sk-parallel {display: flex;align-items: stretch;justify-content: center;background-color: white;position: relative;}#sk-container-id-3 div.sk-item::before, #sk-container-id-3 div.sk-parallel-item::before {content: \"\";position: absolute;border-left: 1px solid gray;box-sizing: border-box;top: 0;bottom: 0;left: 50%;z-index: -1;}#sk-container-id-3 div.sk-parallel-item {display: flex;flex-direction: column;z-index: 1;position: relative;background-color: white;}#sk-container-id-3 div.sk-parallel-item:first-child::after {align-self: flex-end;width: 50%;}#sk-container-id-3 div.sk-parallel-item:last-child::after {align-self: flex-start;width: 50%;}#sk-container-id-3 div.sk-parallel-item:only-child::after {width: 0;}#sk-container-id-3 div.sk-dashed-wrapped {border: 1px dashed gray;margin: 0 0.4em 0.5em 0.4em;box-sizing: border-box;padding-bottom: 0.4em;background-color: white;}#sk-container-id-3 div.sk-label label {font-family: monospace;font-weight: bold;display: inline-block;line-height: 1.2em;}#sk-container-id-3 div.sk-label-container {text-align: center;}#sk-container-id-3 div.sk-container {/* jupyter's `normalize.less` sets `[hidden] { display: none; }` but bootstrap.min.css set `[hidden] { display: none !important; }` so we also need the `!important` here to be able to override the default hidden behavior on the sphinx rendered scikit-learn.org. See: https://github.com/scikit-learn/scikit-learn/issues/21755 */display: inline-block !important;position: relative;}#sk-container-id-3 div.sk-text-repr-fallback {display: none;}</style><div id=\"sk-container-id-3\" class=\"sk-top-container\"><div class=\"sk-text-repr-fallback\"><pre>DecisionTreeClassifier(max_depth=5)</pre><b>In a Jupyter environment, please rerun this cell to show the HTML representation or trust the notebook. <br />On GitHub, the HTML representation is unable to render, please try loading this page with nbviewer.org.</b></div><div class=\"sk-container\" hidden><div class=\"sk-item\"><div class=\"sk-estimator sk-toggleable\"><input class=\"sk-toggleable__control sk-hidden--visually\" id=\"sk-estimator-id-3\" type=\"checkbox\" checked><label for=\"sk-estimator-id-3\" class=\"sk-toggleable__label sk-toggleable__label-arrow\">DecisionTreeClassifier</label><div class=\"sk-toggleable__content\"><pre>DecisionTreeClassifier(max_depth=5)</pre></div></div></div></div></div>"
            ]
          },
          "metadata": {},
          "execution_count": 68
        }
      ]
    },
    {
      "cell_type": "markdown",
      "source": [
        "### 8. Contesta las siguientes preguntas:\n",
        "a. **¿Qué pasa si no se considera el problema de tener datos desbalanceados para este caso? ¿Por qué?**\n",
        "\n",
        "Uno de los principales problemas de no considerar el problema del desbalanceo de datos es el sesgo que tiene en la métrica de evaluación, como la precisión. Un modelo puede lograr una alta precisión prediciendo la clase mayoritaria en todo momento, lo cual puede llegar a ser contraproducente, pues el modelo no estaría haciendo un buen trabajo en la clasificación de la clase minoritaria, que muchas veces es de mayor interés. El modelo puede aprender demasiado de la clase mayoritaria debido a la disponibilidad de más ejemplos y en muchos casos, los errores de clasificación en la clase minoritaria pueden tener consecuencias más graves o costosas que los errores en la clase mayoritaria. Es por esto que es de suma importancia abordar el problema de datos desbalanceados para tener un modelo de clasificación más efectivo, especialmente si la clase minoritaria tiene un interés significativo.\n",
        "\n",
        "b. **De todos los clasificadores, ¿cuál o cuales consideras que son adecuados para los datos? ¿Qué propiedades tienen dichos modelos que los hacen apropiados para los datos? Argumenta tu respuesta.**\n",
        "\n",
        "Los modelos que considero más adecuados son:\n",
        "- Regresión Logística: debido a que es un clasificador lineal que funciona bien para problemas de clasificación binaria y multiclase. Además es interpretable y eficiente en términos computacionales.\n",
        "- Árboles de Decisión: pues son modelos no lineales que pueden manejar datos categóricos. De igual manera, es adeacuado para problemas en los que las relaciones entre las características y la variable objetivo son complejas.\n",
        "- Support Vector Machine (SVM): ya que es útil en la clasificación y puede funcionar bien en datos con muchas características. Además es adeacuado cuando los datos son linealmente separables o se pueden transformar para serlo.\n",
        "\n",
        "c. **¿Es posibles reducir la dimensionalidad del problema sin perder rendimiento en el modelo? ¿Por qué?**\n",
        "\n",
        " Sí, es posible reducir la dimensionalidad del problema sin perder rendimiento en el modelo, y hasta puede llegar a ser beneficioso. Al tener una gran cantidad de variables que representan las medidas de respuesta cerebral, el modelo puede volverse muy complejo y requerir una cantidad significativa de datos para evitar el sobreajuste. Reducir la dimensionalidad puede ayudar a simplificar el modelo y hacerlo más fácil de manejar. Al reducir la dimensionalidad, se disminuye la cantidad de información redundante que el modelo necesita aprender, se vuelve más fácil de interpretar y hace que los cálculos computacionales se vuelvan más eficientes.\n",
        "\n",
        "d. **¿Qué método de selección de características consideras el más adecuado para este caso? ¿Por qué?**\n",
        "\n",
        " En este caso, en el que se están utilizando datos para predecir la respuesta cerebral de un sujeto a un estímulo visual cuando presta o no atención, el método de selección de características que considero el más adecuado es el de tipo Filter. Esto debido a que tiene más sentido evaluar la importancia de cada característica individualmente antes de utilizarlas en un modelo automático. Además este método es computacionalmente eficiente y rápido de calcular, lo cual ayuda mucho en este caso en el que se tiene un gran número de características en el conjunto de datos. Por otro lado, hace más fácil identificar características que no aportan información útil, lo cual ayudar a reducir la dimensionalidad del conjunto de datos, lo que puede mejorar la capacidad de generalización y evitar el sobreajuste.\n",
        "\n",
        "e. **Si quisieras mejorar el rendimiento de tus modelos, ¿qué más se podría hacer?**\n",
        "\n",
        " Se podrían normalizar los datos para asegurarnos de que se tiene una media de cero y una desviación estándar de uno, y así sea más sencillo la convergencia de los modelos. También se podría tomar en cuenta los valores atípicos que puedan afectar la calidad de los resultados. De igual manera, las técnicas de extracción de características avanzadas y de reducción de dimensionalidad pueden ayudar a mejorar la representación de las características y reducir la complejidad del modelo."
      ],
      "metadata": {
        "id": "yuPsBd3-vJ_z"
      }
    },
    {
      "cell_type": "markdown",
      "source": [
        "## Ejercicio 2"
      ],
      "metadata": {
        "id": "lVPRb3wc_f8s"
      }
    },
    {
      "cell_type": "code",
      "source": [
        "import numpy as np\n",
        "import pandas as pd"
      ],
      "metadata": {
        "id": "xC464eQ2_wuN"
      },
      "execution_count": null,
      "outputs": []
    },
    {
      "cell_type": "code",
      "source": [
        "data = np.loadtxt('M_2.txt')"
      ],
      "metadata": {
        "id": "O2I32xVH_6gF"
      },
      "execution_count": null,
      "outputs": []
    },
    {
      "cell_type": "code",
      "source": [
        "data = np.delete(data, 1, axis=1)"
      ],
      "metadata": {
        "id": "hLJiQtBQiL7V"
      },
      "execution_count": null,
      "outputs": []
    },
    {
      "cell_type": "code",
      "source": [
        "df = pd.DataFrame(data)"
      ],
      "metadata": {
        "id": "gmvTWpStDFOM"
      },
      "execution_count": null,
      "outputs": []
    },
    {
      "cell_type": "markdown",
      "source": [
        "### 1. Determina si es necesario balancear los datos. En caso de que sea afirmativo, en todo este ejercicio tendrás que utilizar alguna estrategia para mitigar el problema de tener una muestra desbalanceada."
      ],
      "metadata": {
        "id": "FNrgRLiwcgtM"
      }
    },
    {
      "cell_type": "code",
      "source": [
        "import matplotlib.pyplot as plt"
      ],
      "metadata": {
        "id": "sBn0A5iPDRlC"
      },
      "execution_count": null,
      "outputs": []
    },
    {
      "cell_type": "code",
      "source": [
        "print(df[0].value_counts())"
      ],
      "metadata": {
        "colab": {
          "base_uri": "https://localhost:8080/"
        },
        "id": "tYamTebbDMQb",
        "outputId": "330fb8f3-2760-445c-a56e-356e9e7273b9"
      },
      "execution_count": null,
      "outputs": [
        {
          "output_type": "stream",
          "name": "stdout",
          "text": [
            "1.0    90\n",
            "2.0    90\n",
            "3.0    90\n",
            "4.0    90\n",
            "5.0    90\n",
            "6.0    90\n",
            "7.0    90\n",
            "Name: 0, dtype: int64\n"
          ]
        }
      ]
    },
    {
      "cell_type": "code",
      "source": [
        "classes = df[0].value_counts()\n",
        "plt.bar(classes.index, classes.values)\n",
        "plt.xlabel('Clases')\n",
        "plt.ylabel('Cantidad')\n",
        "plt.title('Distribución de Clases')\n",
        "plt.show()"
      ],
      "metadata": {
        "colab": {
          "base_uri": "https://localhost:8080/",
          "height": 472
        },
        "id": "TN8wPy5qDUqm",
        "outputId": "37f30b9d-6936-40b7-d938-1eb7f04a9023"
      },
      "execution_count": null,
      "outputs": [
        {
          "output_type": "display_data",
          "data": {
            "text/plain": [
              "<Figure size 640x480 with 1 Axes>"
            ],
            "image/png": "[encoded data removed]"
          },
          "metadata": {}
        }
      ]
    },
    {
      "cell_type": "markdown",
      "source": [
        "### 2. Evalúa al menos 5 modelos de clasificación distintos utilizando validación cruzada, y determina cuál de ellos es el más efectivo."
      ],
      "metadata": {
        "id": "-5bTLIVwdjrR"
      }
    },
    {
      "cell_type": "code",
      "source": [
        "from sklearn.model_selection import cross_val_predict\n",
        "from sklearn.metrics import classification_report"
      ],
      "metadata": {
        "id": "KNY38-aJjPyL"
      },
      "execution_count": null,
      "outputs": []
    },
    {
      "cell_type": "markdown",
      "source": [
        "#### Random Forest"
      ],
      "metadata": {
        "id": "ye8stYlTi1ml"
      }
    },
    {
      "cell_type": "code",
      "source": [
        "from sklearn.ensemble import RandomForestClassifier"
      ],
      "metadata": {
        "id": "_CL2u1lHdmoH"
      },
      "execution_count": null,
      "outputs": []
    },
    {
      "cell_type": "code",
      "source": [
        "x = df.iloc[:, 1:]\n",
        "y = df.iloc[:, 0]"
      ],
      "metadata": {
        "id": "XIdUcDnRhixz"
      },
      "execution_count": null,
      "outputs": []
    },
    {
      "cell_type": "code",
      "source": [
        "rand_forest_model = RandomForestClassifier(n_estimators=100, random_state=42)"
      ],
      "metadata": {
        "id": "PDkYhxy0iSfm"
      },
      "execution_count": null,
      "outputs": []
    },
    {
      "cell_type": "code",
      "source": [
        "y_pred = cross_val_predict(rand_forest_model, x, y, cv=5)"
      ],
      "metadata": {
        "id": "l1Ehr5W2ihKD"
      },
      "execution_count": null,
      "outputs": []
    },
    {
      "cell_type": "code",
      "source": [
        "class_report_rf = classification_report(y, y_pred)"
      ],
      "metadata": {
        "id": "7bdE3njQijJd"
      },
      "execution_count": null,
      "outputs": []
    },
    {
      "cell_type": "code",
      "source": [
        "print(class_report_rf)"
      ],
      "metadata": {
        "colab": {
          "base_uri": "https://localhost:8080/"
        },
        "id": "HwIbWooEikhx",
        "outputId": "0df123af-6536-4605-f878-b3d0d8214a53"
      },
      "execution_count": null,
      "outputs": [
        {
          "output_type": "stream",
          "name": "stdout",
          "text": [
            "              precision    recall  f1-score   support\n",
            "\n",
            "         1.0       0.85      0.89      0.87        90\n",
            "         2.0       0.66      0.74      0.70        90\n",
            "         3.0       0.93      0.91      0.92        90\n",
            "         4.0       0.83      0.86      0.84        90\n",
            "         5.0       0.65      0.57      0.61        90\n",
            "         6.0       0.71      0.60      0.65        90\n",
            "         7.0       0.88      0.97      0.92        90\n",
            "\n",
            "    accuracy                           0.79       630\n",
            "   macro avg       0.79      0.79      0.79       630\n",
            "weighted avg       0.79      0.79      0.79       630\n",
            "\n"
          ]
        }
      ]
    },
    {
      "cell_type": "markdown",
      "source": [
        "#### Gradiente Descendiente Estocástico"
      ],
      "metadata": {
        "id": "C7R-ywHji78a"
      }
    },
    {
      "cell_type": "code",
      "source": [
        "from sklearn.linear_model import SGDClassifier"
      ],
      "metadata": {
        "id": "PA27rsHJjFJG"
      },
      "execution_count": null,
      "outputs": []
    },
    {
      "cell_type": "code",
      "source": [
        "sgd_model = SGDClassifier(max_iter=1000, random_state=42)"
      ],
      "metadata": {
        "id": "R59w8Q-AjSlb"
      },
      "execution_count": null,
      "outputs": []
    },
    {
      "cell_type": "code",
      "source": [
        "y_pred = cross_val_predict(sgd_model, x, y, cv=5)"
      ],
      "metadata": {
        "id": "JnH9rBBPjWkN"
      },
      "execution_count": null,
      "outputs": []
    },
    {
      "cell_type": "code",
      "source": [
        "class_report_sgd = classification_report(y, y_pred)"
      ],
      "metadata": {
        "id": "67gS6xkqjZhR"
      },
      "execution_count": null,
      "outputs": []
    },
    {
      "cell_type": "code",
      "source": [
        "print(class_report_sgd)"
      ],
      "metadata": {
        "colab": {
          "base_uri": "https://localhost:8080/"
        },
        "id": "8VJO8B-cja34",
        "outputId": "63f9801e-cbc2-494a-8a21-997c010e9fe7"
      },
      "execution_count": null,
      "outputs": [
        {
          "output_type": "stream",
          "name": "stdout",
          "text": [
            "              precision    recall  f1-score   support\n",
            "\n",
            "         1.0       0.87      0.93      0.90        90\n",
            "         2.0       0.55      0.71      0.62        90\n",
            "         3.0       0.86      0.92      0.89        90\n",
            "         4.0       0.90      0.84      0.87        90\n",
            "         5.0       0.73      0.58      0.65        90\n",
            "         6.0       0.65      0.61      0.63        90\n",
            "         7.0       0.84      0.77      0.80        90\n",
            "\n",
            "    accuracy                           0.77       630\n",
            "   macro avg       0.77      0.77      0.77       630\n",
            "weighted avg       0.77      0.77      0.77       630\n",
            "\n"
          ]
        }
      ]
    },
    {
      "cell_type": "markdown",
      "source": [
        "#### AdaBoost"
      ],
      "metadata": {
        "id": "hLL6xZiYjcsW"
      }
    },
    {
      "cell_type": "code",
      "source": [
        "from sklearn.ensemble import AdaBoostClassifier"
      ],
      "metadata": {
        "id": "uNl9BdMdjfEI"
      },
      "execution_count": null,
      "outputs": []
    },
    {
      "cell_type": "code",
      "source": [
        "adaboost_model = AdaBoostClassifier(n_estimators=50, random_state=42)"
      ],
      "metadata": {
        "id": "xAF0NFVBjsKI"
      },
      "execution_count": null,
      "outputs": []
    },
    {
      "cell_type": "code",
      "source": [
        "y_pred = cross_val_predict(adaboost_model, x, y, cv=5)"
      ],
      "metadata": {
        "id": "PpJzXnoujv-b"
      },
      "execution_count": null,
      "outputs": []
    },
    {
      "cell_type": "code",
      "source": [
        "class_report_adaboost = classification_report(y, y_pred)"
      ],
      "metadata": {
        "colab": {
          "base_uri": "https://localhost:8080/"
        },
        "id": "zhIZJLgfkHR1",
        "outputId": "0c46a1b5-4513-417e-e746-2ff1558db777"
      },
      "execution_count": null,
      "outputs": [
        {
          "output_type": "stream",
          "name": "stderr",
          "text": [
            "/usr/local/lib/python3.10/dist-packages/sklearn/metrics/_classification.py:1344: UndefinedMetricWarning: Precision and F-score are ill-defined and being set to 0.0 in labels with no predicted samples. Use `zero_division` parameter to control this behavior.\n",
            "  _warn_prf(average, modifier, msg_start, len(result))\n",
            "/usr/local/lib/python3.10/dist-packages/sklearn/metrics/_classification.py:1344: UndefinedMetricWarning: Precision and F-score are ill-defined and being set to 0.0 in labels with no predicted samples. Use `zero_division` parameter to control this behavior.\n",
            "  _warn_prf(average, modifier, msg_start, len(result))\n",
            "/usr/local/lib/python3.10/dist-packages/sklearn/metrics/_classification.py:1344: UndefinedMetricWarning: Precision and F-score are ill-defined and being set to 0.0 in labels with no predicted samples. Use `zero_division` parameter to control this behavior.\n",
            "  _warn_prf(average, modifier, msg_start, len(result))\n"
          ]
        }
      ]
    },
    {
      "cell_type": "code",
      "source": [
        "print(class_report_adaboost)"
      ],
      "metadata": {
        "colab": {
          "base_uri": "https://localhost:8080/"
        },
        "id": "zbMgfhKgkO6Z",
        "outputId": "91f86aec-d20f-45e3-d049-b8154aeeba07"
      },
      "execution_count": null,
      "outputs": [
        {
          "output_type": "stream",
          "name": "stdout",
          "text": [
            "              precision    recall  f1-score   support\n",
            "\n",
            "         1.0       0.46      0.07      0.12        90\n",
            "         2.0       0.18      0.30      0.23        90\n",
            "         3.0       0.19      0.71      0.30        90\n",
            "         4.0       0.00      0.00      0.00        90\n",
            "         5.0       0.22      0.19      0.20        90\n",
            "         6.0       0.00      0.00      0.00        90\n",
            "         7.0       0.84      0.57      0.68        90\n",
            "\n",
            "    accuracy                           0.26       630\n",
            "   macro avg       0.27      0.26      0.22       630\n",
            "weighted avg       0.27      0.26      0.22       630\n",
            "\n"
          ]
        }
      ]
    },
    {
      "cell_type": "markdown",
      "source": [
        "#### K-Nearest Neighbors"
      ],
      "metadata": {
        "id": "jjjURrlwkQOG"
      }
    },
    {
      "cell_type": "code",
      "source": [
        "from sklearn.neighbors import KNeighborsClassifier"
      ],
      "metadata": {
        "id": "nYCjIP4akeSx"
      },
      "execution_count": null,
      "outputs": []
    },
    {
      "cell_type": "code",
      "source": [
        "knn_model = KNeighborsClassifier(n_neighbors=5)"
      ],
      "metadata": {
        "id": "ZOXxN923kf9z"
      },
      "execution_count": null,
      "outputs": []
    },
    {
      "cell_type": "code",
      "source": [
        "y_pred = cross_val_predict(knn_model, x, y, cv=5)"
      ],
      "metadata": {
        "id": "qiCq1aoCkiX-"
      },
      "execution_count": null,
      "outputs": []
    },
    {
      "cell_type": "code",
      "source": [
        "class_report_knn = classification_report(y, y_pred)"
      ],
      "metadata": {
        "id": "VbkW0VrQklj4"
      },
      "execution_count": null,
      "outputs": []
    },
    {
      "cell_type": "code",
      "source": [
        "print(class_report_knn)"
      ],
      "metadata": {
        "colab": {
          "base_uri": "https://localhost:8080/"
        },
        "id": "OBGKyYBykndA",
        "outputId": "d025f91e-e1ac-46f1-9d38-c807e4ef702f"
      },
      "execution_count": null,
      "outputs": [
        {
          "output_type": "stream",
          "name": "stdout",
          "text": [
            "              precision    recall  f1-score   support\n",
            "\n",
            "         1.0       0.80      0.92      0.86        90\n",
            "         2.0       0.56      0.66      0.61        90\n",
            "         3.0       0.91      0.90      0.91        90\n",
            "         4.0       0.87      0.83      0.85        90\n",
            "         5.0       0.75      0.44      0.56        90\n",
            "         6.0       0.64      0.67      0.65        90\n",
            "         7.0       0.87      0.96      0.91        90\n",
            "\n",
            "    accuracy                           0.77       630\n",
            "   macro avg       0.77      0.77      0.76       630\n",
            "weighted avg       0.77      0.77      0.76       630\n",
            "\n"
          ]
        }
      ]
    },
    {
      "cell_type": "markdown",
      "source": [
        "#### Arboles de decisión"
      ],
      "metadata": {
        "id": "yoj79kkblER5"
      }
    },
    {
      "cell_type": "code",
      "source": [
        "from sklearn.tree import DecisionTreeClassifier"
      ],
      "metadata": {
        "id": "-73QOmjRlFW3"
      },
      "execution_count": null,
      "outputs": []
    },
    {
      "cell_type": "code",
      "source": [
        "tree_model = DecisionTreeClassifier(random_state=42)"
      ],
      "metadata": {
        "id": "VSLauXjslPYG"
      },
      "execution_count": null,
      "outputs": []
    },
    {
      "cell_type": "code",
      "source": [
        "y_pred = cross_val_predict(tree_model, x, y, cv=5)"
      ],
      "metadata": {
        "id": "VlSGV4walVZT"
      },
      "execution_count": null,
      "outputs": []
    },
    {
      "cell_type": "code",
      "source": [
        "class_report_tree = classification_report(y, y_pred)"
      ],
      "metadata": {
        "id": "JW1F1BGvlajx"
      },
      "execution_count": null,
      "outputs": []
    },
    {
      "cell_type": "code",
      "source": [
        "print(class_report_tree)"
      ],
      "metadata": {
        "colab": {
          "base_uri": "https://localhost:8080/"
        },
        "id": "RsoOKmUDldhB",
        "outputId": "f81380fa-fd14-4952-e232-53cefae0885d"
      },
      "execution_count": null,
      "outputs": [
        {
          "output_type": "stream",
          "name": "stdout",
          "text": [
            "              precision    recall  f1-score   support\n",
            "\n",
            "         1.0       0.80      0.73      0.77        90\n",
            "         2.0       0.51      0.53      0.52        90\n",
            "         3.0       0.80      0.84      0.82        90\n",
            "         4.0       0.71      0.68      0.69        90\n",
            "         5.0       0.39      0.39      0.39        90\n",
            "         6.0       0.52      0.53      0.53        90\n",
            "         7.0       0.86      0.88      0.87        90\n",
            "\n",
            "    accuracy                           0.66       630\n",
            "   macro avg       0.66      0.66      0.66       630\n",
            "weighted avg       0.66      0.66      0.66       630\n",
            "\n"
          ]
        }
      ]
    },
    {
      "cell_type": "markdown",
      "source": [
        "### 3. Escoge al menos dos clasificadores que hayas evaluado en el paso anterior e identifica sus hiperparámetros. Lleva a cabo el proceso de validación cruzada anidada para evaluar los dos modelos con la selección óptima de hiperparámetros."
      ],
      "metadata": {
        "id": "akyWBfDgdm5-"
      }
    },
    {
      "cell_type": "code",
      "source": [
        "from sklearn.model_selection import train_test_split, GridSearchCV"
      ],
      "metadata": {
        "id": "fSBd0DEcMj_o"
      },
      "execution_count": null,
      "outputs": []
    },
    {
      "cell_type": "markdown",
      "source": [
        "#### Random Forest"
      ],
      "metadata": {
        "id": "ikjt8Z974xJJ"
      }
    },
    {
      "cell_type": "code",
      "source": [
        "x_train_ext, x_test_ext, y_train_ext, y_test_ext = train_test_split(x, y, test_size=0.2, random_state=42)"
      ],
      "metadata": {
        "id": "lof9JrmDMkak"
      },
      "execution_count": null,
      "outputs": []
    },
    {
      "cell_type": "code",
      "source": [
        "param_grid = {\n",
        "    'n_estimators': [50, 100, 200],\n",
        "    'max_depth': [None, 10, 20]\n",
        "}"
      ],
      "metadata": {
        "id": "LB-QPsLVMwOf"
      },
      "execution_count": null,
      "outputs": []
    },
    {
      "cell_type": "code",
      "source": [
        "rand_forest_model = RandomForestClassifier(random_state=42)\n",
        "\n",
        "grid_search = GridSearchCV(estimator=rand_forest_model, param_grid=param_grid, cv=5)\n",
        "grid_search.fit(x_train_ext, y_train_ext)\n",
        "\n",
        "best_rf_model = grid_search.best_estimator_\n",
        "\n",
        "y_pred_ext = best_rf_model.predict(x_test_ext)\n",
        "class_report_rf_ext = classification_report(y_test_ext, y_pred_ext)"
      ],
      "metadata": {
        "id": "BMJ5MYirM11D"
      },
      "execution_count": null,
      "outputs": []
    },
    {
      "cell_type": "code",
      "source": [
        "print(class_report_rf_ext)"
      ],
      "metadata": {
        "colab": {
          "base_uri": "https://localhost:8080/"
        },
        "id": "rPT1aQftM-cx",
        "outputId": "878f65c9-2a9a-4fd0-a856-d5fa7208e131"
      },
      "execution_count": null,
      "outputs": [
        {
          "output_type": "stream",
          "name": "stdout",
          "text": [
            "              precision    recall  f1-score   support\n",
            "\n",
            "         1.0       0.95      0.95      0.95        21\n",
            "         2.0       0.67      0.82      0.74        17\n",
            "         3.0       1.00      1.00      1.00        21\n",
            "         4.0       1.00      0.90      0.95        20\n",
            "         5.0       0.67      0.77      0.71        13\n",
            "         6.0       0.73      0.50      0.59        16\n",
            "         7.0       0.95      1.00      0.97        18\n",
            "\n",
            "    accuracy                           0.87       126\n",
            "   macro avg       0.85      0.85      0.85       126\n",
            "weighted avg       0.87      0.87      0.86       126\n",
            "\n"
          ]
        }
      ]
    },
    {
      "cell_type": "markdown",
      "source": [
        "#### K-Nearest Neighbors"
      ],
      "metadata": {
        "id": "tGT0FBea7dVM"
      }
    },
    {
      "cell_type": "code",
      "source": [
        "x_train_ext, x_test_ext, y_train_ext, y_test_ext = train_test_split(x, y, test_size=0.2, random_state=42)"
      ],
      "metadata": {
        "id": "3An8DhWtNKHg"
      },
      "execution_count": null,
      "outputs": []
    },
    {
      "cell_type": "code",
      "source": [
        "param_grid = {\n",
        "    'n_neighbors': [3, 5, 7, 9],\n",
        "    'metric': ['euclidean', 'manhattan', 'minkowski']\n",
        "}"
      ],
      "metadata": {
        "id": "eiYTERdmNdX-"
      },
      "execution_count": null,
      "outputs": []
    },
    {
      "cell_type": "code",
      "source": [
        "knn_model = KNeighborsClassifier()\n",
        "\n",
        "grid_search = GridSearchCV(estimator=knn_model, param_grid=param_grid, cv=5)\n",
        "grid_search.fit(x_train_ext, y_train_ext)\n",
        "\n",
        "best_knn_model = grid_search.best_estimator_\n",
        "\n",
        "y_pred_ext = best_knn_model.predict(x_test_ext)\n",
        "class_report_knn_ext = classification_report(y_test_ext, y_pred_ext)"
      ],
      "metadata": {
        "id": "iCkGhFiPNfQ2"
      },
      "execution_count": null,
      "outputs": []
    },
    {
      "cell_type": "code",
      "source": [
        "print(class_report_knn_ext)"
      ],
      "metadata": {
        "colab": {
          "base_uri": "https://localhost:8080/"
        },
        "id": "HtrW4Qx6NzuB",
        "outputId": "89254f28-988d-4eeb-9e38-da6c5399b901"
      },
      "execution_count": null,
      "outputs": [
        {
          "output_type": "stream",
          "name": "stdout",
          "text": [
            "              precision    recall  f1-score   support\n",
            "\n",
            "         1.0       0.90      0.90      0.90        21\n",
            "         2.0       0.64      0.82      0.72        17\n",
            "         3.0       1.00      1.00      1.00        21\n",
            "         4.0       1.00      0.90      0.95        20\n",
            "         5.0       0.89      0.62      0.73        13\n",
            "         6.0       0.69      0.69      0.69        16\n",
            "         7.0       0.95      1.00      0.97        18\n",
            "\n",
            "    accuracy                           0.87       126\n",
            "   macro avg       0.87      0.85      0.85       126\n",
            "weighted avg       0.88      0.87      0.87       126\n",
            "\n"
          ]
        }
      ]
    },
    {
      "cell_type": "markdown",
      "source": [
        "### 4. Prepara tus modelos para producción haciendo lo siguiente:"
      ],
      "metadata": {
        "id": "nFnXEQJGdqTa"
      }
    },
    {
      "cell_type": "markdown",
      "source": [
        "A. Opten los hiperparámetros óptimos utilizando todo el conjunto de datos con validación cruzada."
      ],
      "metadata": {
        "id": "yYII9TJWdv9w"
      }
    },
    {
      "cell_type": "markdown",
      "source": [
        "B. Con los hiperparámetros óptimos, ajusta el modelo con todos los datos."
      ],
      "metadata": {
        "id": "uBdgRnH7d2o5"
      }
    },
    {
      "cell_type": "markdown",
      "source": [
        "#### Random Forest"
      ],
      "metadata": {
        "id": "FHhp7GUcDHEU"
      }
    },
    {
      "cell_type": "code",
      "source": [
        "param_grid = {\n",
        "    'n_estimators': [100, 200, 300],\n",
        "    'max_depth': [None, 10, 20]\n",
        "}"
      ],
      "metadata": {
        "id": "_EoT4geJOtnz"
      },
      "execution_count": null,
      "outputs": []
    },
    {
      "cell_type": "code",
      "source": [
        "rand_forest_model = RandomForestClassifier(random_state=42)\n",
        "\n",
        "grid_search = GridSearchCV(estimator=rand_forest_model, param_grid=param_grid, cv=5)\n",
        "grid_search.fit(x, y)"
      ],
      "metadata": {
        "colab": {
          "base_uri": "https://localhost:8080/",
          "height": 118
        },
        "id": "5pAaFeK9GRQh",
        "outputId": "bb03b66d-b14a-4ded-a4f1-9874eac27d71"
      },
      "execution_count": null,
      "outputs": [
        {
          "output_type": "execute_result",
          "data": {
            "text/plain": [
              "GridSearchCV(cv=5, estimator=RandomForestClassifier(random_state=42),\n",
              "             param_grid={'max_depth': [None, 10, 20],\n",
              "                         'n_estimators': [100, 200, 300]})"
            ],
            "text/html": [
              "<style>#sk-container-id-4 {color: black;background-color: white;}#sk-container-id-4 pre{padding: 0;}#sk-container-id-4 div.sk-toggleable {background-color: white;}#sk-container-id-4 label.sk-toggleable__label {cursor: pointer;display: block;width: 100%;margin-bottom: 0;padding: 0.3em;box-sizing: border-box;text-align: center;}#sk-container-id-4 label.sk-toggleable__label-arrow:before {content: \"▸\";float: left;margin-right: 0.25em;color: #696969;}#sk-container-id-4 label.sk-toggleable__label-arrow:hover:before {color: black;}#sk-container-id-4 div.sk-estimator:hover label.sk-toggleable__label-arrow:before {color: black;}#sk-container-id-4 div.sk-toggleable__content {max-height: 0;max-width: 0;overflow: hidden;text-align: left;background-color: #f0f8ff;}#sk-container-id-4 div.sk-toggleable__content pre {margin: 0.2em;color: black;border-radius: 0.25em;background-color: #f0f8ff;}#sk-container-id-4 input.sk-toggleable__control:checked~div.sk-toggleable__content {max-height: 200px;max-width: 100%;overflow: auto;}#sk-container-id-4 input.sk-toggleable__control:checked~label.sk-toggleable__label-arrow:before {content: \"▾\";}#sk-container-id-4 div.sk-estimator input.sk-toggleable__control:checked~label.sk-toggleable__label {background-color: #d4ebff;}#sk-container-id-4 div.sk-label input.sk-toggleable__control:checked~label.sk-toggleable__label {background-color: #d4ebff;}#sk-container-id-4 input.sk-hidden--visually {border: 0;clip: rect(1px 1px 1px 1px);clip: rect(1px, 1px, 1px, 1px);height: 1px;margin: -1px;overflow: hidden;padding: 0;position: absolute;width: 1px;}#sk-container-id-4 div.sk-estimator {font-family: monospace;background-color: #f0f8ff;border: 1px dotted black;border-radius: 0.25em;box-sizing: border-box;margin-bottom: 0.5em;}#sk-container-id-4 div.sk-estimator:hover {background-color: #d4ebff;}#sk-container-id-4 div.sk-parallel-item::after {content: \"\";width: 100%;border-bottom: 1px solid gray;flex-grow: 1;}#sk-container-id-4 div.sk-label:hover label.sk-toggleable__label {background-color: #d4ebff;}#sk-container-id-4 div.sk-serial::before {content: \"\";position: absolute;border-left: 1px solid gray;box-sizing: border-box;top: 0;bottom: 0;left: 50%;z-index: 0;}#sk-container-id-4 div.sk-serial {display: flex;flex-direction: column;align-items: center;background-color: white;padding-right: 0.2em;padding-left: 0.2em;position: relative;}#sk-container-id-4 div.sk-item {position: relative;z-index: 1;}#sk-container-id-4 div.sk-parallel {display: flex;align-items: stretch;justify-content: center;background-color: white;position: relative;}#sk-container-id-4 div.sk-item::before, #sk-container-id-4 div.sk-parallel-item::before {content: \"\";position: absolute;border-left: 1px solid gray;box-sizing: border-box;top: 0;bottom: 0;left: 50%;z-index: -1;}#sk-container-id-4 div.sk-parallel-item {display: flex;flex-direction: column;z-index: 1;position: relative;background-color: white;}#sk-container-id-4 div.sk-parallel-item:first-child::after {align-self: flex-end;width: 50%;}#sk-container-id-4 div.sk-parallel-item:last-child::after {align-self: flex-start;width: 50%;}#sk-container-id-4 div.sk-parallel-item:only-child::after {width: 0;}#sk-container-id-4 div.sk-dashed-wrapped {border: 1px dashed gray;margin: 0 0.4em 0.5em 0.4em;box-sizing: border-box;padding-bottom: 0.4em;background-color: white;}#sk-container-id-4 div.sk-label label {font-family: monospace;font-weight: bold;display: inline-block;line-height: 1.2em;}#sk-container-id-4 div.sk-label-container {text-align: center;}#sk-container-id-4 div.sk-container {/* jupyter's `normalize.less` sets `[hidden] { display: none; }` but bootstrap.min.css set `[hidden] { display: none !important; }` so we also need the `!important` here to be able to override the default hidden behavior on the sphinx rendered scikit-learn.org. See: https://github.com/scikit-learn/scikit-learn/issues/21755 */display: inline-block !important;position: relative;}#sk-container-id-4 div.sk-text-repr-fallback {display: none;}</style><div id=\"sk-container-id-4\" class=\"sk-top-container\"><div class=\"sk-text-repr-fallback\"><pre>GridSearchCV(cv=5, estimator=RandomForestClassifier(random_state=42),\n",
              "             param_grid={&#x27;max_depth&#x27;: [None, 10, 20],\n",
              "                         &#x27;n_estimators&#x27;: [100, 200, 300]})</pre><b>In a Jupyter environment, please rerun this cell to show the HTML representation or trust the notebook. <br />On GitHub, the HTML representation is unable to render, please try loading this page with nbviewer.org.</b></div><div class=\"sk-container\" hidden><div class=\"sk-item sk-dashed-wrapped\"><div class=\"sk-label-container\"><div class=\"sk-label sk-toggleable\"><input class=\"sk-toggleable__control sk-hidden--visually\" id=\"sk-estimator-id-4\" type=\"checkbox\" ><label for=\"sk-estimator-id-4\" class=\"sk-toggleable__label sk-toggleable__label-arrow\">GridSearchCV</label><div class=\"sk-toggleable__content\"><pre>GridSearchCV(cv=5, estimator=RandomForestClassifier(random_state=42),\n",
              "             param_grid={&#x27;max_depth&#x27;: [None, 10, 20],\n",
              "                         &#x27;n_estimators&#x27;: [100, 200, 300]})</pre></div></div></div><div class=\"sk-parallel\"><div class=\"sk-parallel-item\"><div class=\"sk-item\"><div class=\"sk-label-container\"><div class=\"sk-label sk-toggleable\"><input class=\"sk-toggleable__control sk-hidden--visually\" id=\"sk-estimator-id-5\" type=\"checkbox\" ><label for=\"sk-estimator-id-5\" class=\"sk-toggleable__label sk-toggleable__label-arrow\">estimator: RandomForestClassifier</label><div class=\"sk-toggleable__content\"><pre>RandomForestClassifier(random_state=42)</pre></div></div></div><div class=\"sk-serial\"><div class=\"sk-item\"><div class=\"sk-estimator sk-toggleable\"><input class=\"sk-toggleable__control sk-hidden--visually\" id=\"sk-estimator-id-6\" type=\"checkbox\" ><label for=\"sk-estimator-id-6\" class=\"sk-toggleable__label sk-toggleable__label-arrow\">RandomForestClassifier</label><div class=\"sk-toggleable__content\"><pre>RandomForestClassifier(random_state=42)</pre></div></div></div></div></div></div></div></div></div></div>"
            ]
          },
          "metadata": {},
          "execution_count": 113
        }
      ]
    },
    {
      "cell_type": "code",
      "source": [
        "best_params = grid_search.best_params_\n",
        "print(\"Hiperparámetros óptimos:\", best_params)"
      ],
      "metadata": {
        "colab": {
          "base_uri": "https://localhost:8080/"
        },
        "id": "o1ZSFXSuO0mQ",
        "outputId": "105de5a4-7ebf-48b7-9718-ed6d08e0ebd4"
      },
      "execution_count": null,
      "outputs": [
        {
          "output_type": "stream",
          "name": "stdout",
          "text": [
            "Hiperparámetros óptimos: {'max_depth': None, 'n_estimators': 300}\n"
          ]
        }
      ]
    },
    {
      "cell_type": "markdown",
      "source": [
        "#### K-Nearest Neighbors"
      ],
      "metadata": {
        "id": "Thqg-Aj7DUGB"
      }
    },
    {
      "cell_type": "code",
      "source": [
        "param_grid = {\n",
        "    'n_neighbors': [3, 5, 7],\n",
        "    'weights': ['uniform', 'distance']\n",
        "}"
      ],
      "metadata": {
        "id": "Q6bNnSWHGRjd"
      },
      "execution_count": null,
      "outputs": []
    },
    {
      "cell_type": "code",
      "source": [
        "knn_model = KNeighborsClassifier()\n",
        "\n",
        "grid_search = GridSearchCV(estimator=knn_model, param_grid=param_grid, cv=5)\n",
        "grid_search.fit(x, y)"
      ],
      "metadata": {
        "colab": {
          "base_uri": "https://localhost:8080/",
          "height": 118
        },
        "id": "AxMT4TeePStU",
        "outputId": "9203aa0d-f639-4829-dcf8-775db7c38bbe"
      },
      "execution_count": null,
      "outputs": [
        {
          "output_type": "execute_result",
          "data": {
            "text/plain": [
              "GridSearchCV(cv=5, estimator=KNeighborsClassifier(),\n",
              "             param_grid={'n_neighbors': [3, 5, 7],\n",
              "                         'weights': ['uniform', 'distance']})"
            ],
            "text/html": [
              "<style>#sk-container-id-5 {color: black;background-color: white;}#sk-container-id-5 pre{padding: 0;}#sk-container-id-5 div.sk-toggleable {background-color: white;}#sk-container-id-5 label.sk-toggleable__label {cursor: pointer;display: block;width: 100%;margin-bottom: 0;padding: 0.3em;box-sizing: border-box;text-align: center;}#sk-container-id-5 label.sk-toggleable__label-arrow:before {content: \"▸\";float: left;margin-right: 0.25em;color: #696969;}#sk-container-id-5 label.sk-toggleable__label-arrow:hover:before {color: black;}#sk-container-id-5 div.sk-estimator:hover label.sk-toggleable__label-arrow:before {color: black;}#sk-container-id-5 div.sk-toggleable__content {max-height: 0;max-width: 0;overflow: hidden;text-align: left;background-color: #f0f8ff;}#sk-container-id-5 div.sk-toggleable__content pre {margin: 0.2em;color: black;border-radius: 0.25em;background-color: #f0f8ff;}#sk-container-id-5 input.sk-toggleable__control:checked~div.sk-toggleable__content {max-height: 200px;max-width: 100%;overflow: auto;}#sk-container-id-5 input.sk-toggleable__control:checked~label.sk-toggleable__label-arrow:before {content: \"▾\";}#sk-container-id-5 div.sk-estimator input.sk-toggleable__control:checked~label.sk-toggleable__label {background-color: #d4ebff;}#sk-container-id-5 div.sk-label input.sk-toggleable__control:checked~label.sk-toggleable__label {background-color: #d4ebff;}#sk-container-id-5 input.sk-hidden--visually {border: 0;clip: rect(1px 1px 1px 1px);clip: rect(1px, 1px, 1px, 1px);height: 1px;margin: -1px;overflow: hidden;padding: 0;position: absolute;width: 1px;}#sk-container-id-5 div.sk-estimator {font-family: monospace;background-color: #f0f8ff;border: 1px dotted black;border-radius: 0.25em;box-sizing: border-box;margin-bottom: 0.5em;}#sk-container-id-5 div.sk-estimator:hover {background-color: #d4ebff;}#sk-container-id-5 div.sk-parallel-item::after {content: \"\";width: 100%;border-bottom: 1px solid gray;flex-grow: 1;}#sk-container-id-5 div.sk-label:hover label.sk-toggleable__label {background-color: #d4ebff;}#sk-container-id-5 div.sk-serial::before {content: \"\";position: absolute;border-left: 1px solid gray;box-sizing: border-box;top: 0;bottom: 0;left: 50%;z-index: 0;}#sk-container-id-5 div.sk-serial {display: flex;flex-direction: column;align-items: center;background-color: white;padding-right: 0.2em;padding-left: 0.2em;position: relative;}#sk-container-id-5 div.sk-item {position: relative;z-index: 1;}#sk-container-id-5 div.sk-parallel {display: flex;align-items: stretch;justify-content: center;background-color: white;position: relative;}#sk-container-id-5 div.sk-item::before, #sk-container-id-5 div.sk-parallel-item::before {content: \"\";position: absolute;border-left: 1px solid gray;box-sizing: border-box;top: 0;bottom: 0;left: 50%;z-index: -1;}#sk-container-id-5 div.sk-parallel-item {display: flex;flex-direction: column;z-index: 1;position: relative;background-color: white;}#sk-container-id-5 div.sk-parallel-item:first-child::after {align-self: flex-end;width: 50%;}#sk-container-id-5 div.sk-parallel-item:last-child::after {align-self: flex-start;width: 50%;}#sk-container-id-5 div.sk-parallel-item:only-child::after {width: 0;}#sk-container-id-5 div.sk-dashed-wrapped {border: 1px dashed gray;margin: 0 0.4em 0.5em 0.4em;box-sizing: border-box;padding-bottom: 0.4em;background-color: white;}#sk-container-id-5 div.sk-label label {font-family: monospace;font-weight: bold;display: inline-block;line-height: 1.2em;}#sk-container-id-5 div.sk-label-container {text-align: center;}#sk-container-id-5 div.sk-container {/* jupyter's `normalize.less` sets `[hidden] { display: none; }` but bootstrap.min.css set `[hidden] { display: none !important; }` so we also need the `!important` here to be able to override the default hidden behavior on the sphinx rendered scikit-learn.org. See: https://github.com/scikit-learn/scikit-learn/issues/21755 */display: inline-block !important;position: relative;}#sk-container-id-5 div.sk-text-repr-fallback {display: none;}</style><div id=\"sk-container-id-5\" class=\"sk-top-container\"><div class=\"sk-text-repr-fallback\"><pre>GridSearchCV(cv=5, estimator=KNeighborsClassifier(),\n",
              "             param_grid={&#x27;n_neighbors&#x27;: [3, 5, 7],\n",
              "                         &#x27;weights&#x27;: [&#x27;uniform&#x27;, &#x27;distance&#x27;]})</pre><b>In a Jupyter environment, please rerun this cell to show the HTML representation or trust the notebook. <br />On GitHub, the HTML representation is unable to render, please try loading this page with nbviewer.org.</b></div><div class=\"sk-container\" hidden><div class=\"sk-item sk-dashed-wrapped\"><div class=\"sk-label-container\"><div class=\"sk-label sk-toggleable\"><input class=\"sk-toggleable__control sk-hidden--visually\" id=\"sk-estimator-id-7\" type=\"checkbox\" ><label for=\"sk-estimator-id-7\" class=\"sk-toggleable__label sk-toggleable__label-arrow\">GridSearchCV</label><div class=\"sk-toggleable__content\"><pre>GridSearchCV(cv=5, estimator=KNeighborsClassifier(),\n",
              "             param_grid={&#x27;n_neighbors&#x27;: [3, 5, 7],\n",
              "                         &#x27;weights&#x27;: [&#x27;uniform&#x27;, &#x27;distance&#x27;]})</pre></div></div></div><div class=\"sk-parallel\"><div class=\"sk-parallel-item\"><div class=\"sk-item\"><div class=\"sk-label-container\"><div class=\"sk-label sk-toggleable\"><input class=\"sk-toggleable__control sk-hidden--visually\" id=\"sk-estimator-id-8\" type=\"checkbox\" ><label for=\"sk-estimator-id-8\" class=\"sk-toggleable__label sk-toggleable__label-arrow\">estimator: KNeighborsClassifier</label><div class=\"sk-toggleable__content\"><pre>KNeighborsClassifier()</pre></div></div></div><div class=\"sk-serial\"><div class=\"sk-item\"><div class=\"sk-estimator sk-toggleable\"><input class=\"sk-toggleable__control sk-hidden--visually\" id=\"sk-estimator-id-9\" type=\"checkbox\" ><label for=\"sk-estimator-id-9\" class=\"sk-toggleable__label sk-toggleable__label-arrow\">KNeighborsClassifier</label><div class=\"sk-toggleable__content\"><pre>KNeighborsClassifier()</pre></div></div></div></div></div></div></div></div></div></div>"
            ]
          },
          "metadata": {},
          "execution_count": 116
        }
      ]
    },
    {
      "cell_type": "code",
      "source": [
        "best_params = grid_search.best_params_\n",
        "print(\"Hiperparámetros óptimos:\", best_params)"
      ],
      "metadata": {
        "colab": {
          "base_uri": "https://localhost:8080/"
        },
        "id": "OWkdpT8jPWDv",
        "outputId": "89394864-6dd7-4c42-90b6-c8d6901a970e"
      },
      "execution_count": null,
      "outputs": [
        {
          "output_type": "stream",
          "name": "stdout",
          "text": [
            "Hiperparámetros óptimos: {'n_neighbors': 3, 'weights': 'distance'}\n"
          ]
        }
      ]
    },
    {
      "cell_type": "markdown",
      "source": [
        "### 5. Contesta lo siguientes:\n",
        "a. **¿Observas un problema en cuanto al balanceo de las clases? ¿Por qué?**\n",
        "\n",
        "No, ya que el conjunto de datos tiene el mismo número de pruebas para cada clase. El hecho de que cada clase tenga la misma cantidad de muestras sugiere que el conjunto de datos está balanceado en términos de distribución de clases.\n",
        "        \n",
        "b. **¿Qué modelo o modelos fueron efectivos para clasificar tus datos? ¿Observas algo especial sobre los modelos? Argumenta tu respuesta.**\n",
        "\n",
        "Tomando en cuenta los resultados obtenidos, los modelos más efectivos para clasificar los datos son el Gradiente Descendiente Estocástico y K-Nearest Neighbors, ya que tienen las métricas de precisión, recall y f1-score más altas en comparación con los otros modelos.\n",
        "        \n",
        "c. **¿Observas alguna mejora importante al optimizar hiperparámetros? ¿Es el resultado que esperabas? Argumenta tu respuesta.**\n",
        "\n",
        "Sí, tanto en el caso de Random Forest como en el de K-Nearest Neighbors, hubo una mejora significativa en todas las métricas de evaluación después de la optimización de hiperparámetros. La precisión, el recall y el f1-score aumentaron y la exactitud mejoró notablemente, lo cual sugiere que la optimización de hiperparámetros fue efectiva y que ahora el modelo es mucho más capaz de clasificar los datos de manera precisa.\n",
        "        \n",
        "d. **¿Qué inconvenientes hay al encontrar hiperparámetros? ¿Por qué?**\n",
        "Se puede llegar a requerir una gran cantidad de recursos computacionales y llevar algo de tiempo, pues la búsqueda de hiperparámetros implica probar diferentes combinaciones de valores para múltiples parámetros. También, si se busca mucho en un conjunto de datos específico, existe la posibilidad de que el modelo se ajuste demasiado a los datos de entrenamiento y no generalice bien a los nuevos datos. Otro inconveniente se presenta cuando se tienen conjuntos de datos con muchas características, pues la búsqueda de hiperparámetros se vuelve aún más complicada."
      ],
      "metadata": {
        "id": "pVU2ts8uwe3u"
      }
    }
  ]
}